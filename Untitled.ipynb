{
 "cells": [
  {
   "cell_type": "code",
   "execution_count": 1,
   "id": "f8f50bad",
   "metadata": {},
   "outputs": [
    {
     "name": "stdout",
     "output_type": "stream",
     "text": [
      "Requirement already satisfied: pandas in c:\\users\\admin\\anaconda3\\lib\\site-packages (1.3.4)\n",
      "Collecting mlxtend\n",
      "  Downloading mlxtend-0.23.0-py3-none-any.whl (1.4 MB)\n",
      "Requirement already satisfied: openpyxl in c:\\users\\admin\\anaconda3\\lib\\site-packages (3.0.9)\n",
      "Requirement already satisfied: python-dateutil>=2.7.3 in c:\\users\\admin\\anaconda3\\lib\\site-packages (from pandas) (2.8.2)\n",
      "Requirement already satisfied: numpy>=1.17.3 in c:\\users\\admin\\anaconda3\\lib\\site-packages (from pandas) (1.20.3)\n",
      "Requirement already satisfied: pytz>=2017.3 in c:\\users\\admin\\anaconda3\\lib\\site-packages (from pandas) (2021.3)\n",
      "Requirement already satisfied: matplotlib>=3.0.0 in c:\\users\\admin\\anaconda3\\lib\\site-packages (from mlxtend) (3.4.3)\n",
      "Collecting scikit-learn>=1.0.2\n",
      "  Downloading scikit_learn-1.3.1-cp39-cp39-win_amd64.whl (9.3 MB)\n",
      "Requirement already satisfied: joblib>=0.13.2 in c:\\users\\admin\\anaconda3\\lib\\site-packages (from mlxtend) (1.1.0)\n",
      "Requirement already satisfied: scipy>=1.2.1 in c:\\users\\admin\\anaconda3\\lib\\site-packages (from mlxtend) (1.7.1)\n",
      "Requirement already satisfied: et-xmlfile in c:\\users\\admin\\anaconda3\\lib\\site-packages (from openpyxl) (1.1.0)\n",
      "Requirement already satisfied: kiwisolver>=1.0.1 in c:\\users\\admin\\anaconda3\\lib\\site-packages (from matplotlib>=3.0.0->mlxtend) (1.3.1)\n",
      "Requirement already satisfied: pyparsing>=2.2.1 in c:\\users\\admin\\anaconda3\\lib\\site-packages (from matplotlib>=3.0.0->mlxtend) (3.0.4)\n",
      "Requirement already satisfied: cycler>=0.10 in c:\\users\\admin\\anaconda3\\lib\\site-packages (from matplotlib>=3.0.0->mlxtend) (0.10.0)\n",
      "Requirement already satisfied: pillow>=6.2.0 in c:\\users\\admin\\anaconda3\\lib\\site-packages (from matplotlib>=3.0.0->mlxtend) (8.4.0)\n",
      "Requirement already satisfied: six in c:\\users\\admin\\anaconda3\\lib\\site-packages (from cycler>=0.10->matplotlib>=3.0.0->mlxtend) (1.16.0)\n",
      "Requirement already satisfied: threadpoolctl>=2.0.0 in c:\\users\\admin\\anaconda3\\lib\\site-packages (from scikit-learn>=1.0.2->mlxtend) (2.2.0)\n",
      "Collecting joblib>=0.13.2\n",
      "  Downloading joblib-1.3.2-py3-none-any.whl (302 kB)\n",
      "Installing collected packages: joblib, scikit-learn, mlxtend\n",
      "  Attempting uninstall: joblib\n",
      "    Found existing installation: joblib 1.1.0\n",
      "    Uninstalling joblib-1.1.0:\n",
      "      Successfully uninstalled joblib-1.1.0\n",
      "  Attempting uninstall: scikit-learn\n",
      "    Found existing installation: scikit-learn 0.24.2\n",
      "    Uninstalling scikit-learn-0.24.2:\n",
      "      Successfully uninstalled scikit-learn-0.24.2\n",
      "Successfully installed joblib-1.3.2 mlxtend-0.23.0 scikit-learn-1.3.1\n",
      "Note: you may need to restart the kernel to use updated packages.\n"
     ]
    }
   ],
   "source": [
    "pip install pandas mlxtend openpyxl\n"
   ]
  },
  {
   "cell_type": "code",
   "execution_count": 11,
   "id": "04786e2c",
   "metadata": {},
   "outputs": [
    {
     "name": "stdout",
     "output_type": "stream",
     "text": [
      "                     antecedents  \\\n",
      "0                 (Employed_Yes)   \n",
      "1          (School_attended_Yes)   \n",
      "2                 (Employed_Yes)   \n",
      "3    (Anyother_income_source_No)   \n",
      "4                 (Employed_Yes)   \n",
      "..                           ...   \n",
      "157  (Family_income_10000-30000)   \n",
      "158  (Anyother_income_source_No)   \n",
      "159    (Media_portrait_Positive)   \n",
      "160               (Employed_Yes)   \n",
      "161        (School_attended_Yes)   \n",
      "\n",
      "                                           consequents  antecedent support  \\\n",
      "0                                (School_attended_Yes)            0.913043   \n",
      "1                                       (Employed_Yes)            0.956522   \n",
      "2                          (Anyother_income_source_No)            0.913043   \n",
      "3                                       (Employed_Yes)            0.913043   \n",
      "4                          (Family_income_10000-30000)            0.913043   \n",
      "..                                                 ...                 ...   \n",
      "157  (Media_portrait_Positive, Employed_Yes, Anyoth...            0.728261   \n",
      "158  (Media_portrait_Positive, Employed_Yes, Family...            0.913043   \n",
      "159  (Employed_Yes, Family_income_10000-30000, Scho...            0.858696   \n",
      "160  (Media_portrait_Positive, Family_income_10000-...            0.913043   \n",
      "161  (Media_portrait_Positive, Employed_Yes, Family...            0.956522   \n",
      "\n",
      "     consequent support   support  confidence      lift  leverage  conviction  \\\n",
      "0              0.956522  0.880435    0.964286  1.008117  0.007089    1.217391   \n",
      "1              0.913043  0.880435    0.920455  1.008117  0.007089    1.093168   \n",
      "2              0.913043  0.858696    0.940476  1.030045  0.025047    1.460870   \n",
      "3              0.913043  0.858696    0.940476  1.030045  0.025047    1.460870   \n",
      "4              0.728261  0.684783    0.750000  1.029851  0.019849    1.086957   \n",
      "..                  ...       ...         ...       ...       ...         ...   \n",
      "157            0.695652  0.532609    0.731343  1.051306  0.025992    1.132850   \n",
      "158            0.576087  0.532609    0.583333  1.012579  0.006616    1.017391   \n",
      "159            0.619565  0.532609    0.620253  1.001110  0.000591    1.001812   \n",
      "160            0.543478  0.532609    0.583333  1.073333  0.036389    1.095652   \n",
      "161            0.554348  0.532609    0.556818  1.004456  0.002363    1.005574   \n",
      "\n",
      "     zhangs_metric  \n",
      "0         0.092593  \n",
      "1         0.185185  \n",
      "2         0.335443  \n",
      "3         0.335443  \n",
      "4         0.333333  \n",
      "..             ...  \n",
      "157       0.179592  \n",
      "158       0.142857  \n",
      "159       0.007849  \n",
      "160       0.785714  \n",
      "161       0.102041  \n",
      "\n",
      "[162 rows x 10 columns]\n"
     ]
    },
    {
     "name": "stderr",
     "output_type": "stream",
     "text": [
      "C:\\Users\\Admin\\anaconda3\\lib\\site-packages\\openpyxl\\worksheet\\header_footer.py:48: UserWarning: Cannot parse header or footer so it will be ignored\n",
      "  warn(\"\"\"Cannot parse header or footer so it will be ignored\"\"\")\n",
      "C:\\Users\\Admin\\anaconda3\\lib\\site-packages\\mlxtend\\frequent_patterns\\fpcommon.py:110: DeprecationWarning: DataFrames with non-bool types result in worse computationalperformance and their support might be discontinued in the future.Please use a DataFrame with bool type\n",
      "  warnings.warn(\n"
     ]
    }
   ],
   "source": [
    "import pandas as pd\n",
    "from mlxtend.frequent_patterns import apriori\n",
    "from mlxtend.frequent_patterns import association_rules\n",
    "\n",
    "# Step 3: Load Your Dataset from Excel\n",
    "file_path = 'C:/Users/Admin/Desktop/Internship SLT/Research - Substances/sql query.xlsx'  # Replace with the path to your Excel file\n",
    "sheet_name = 'Final_dataset'  # Replace with the sheet name where your data is located\n",
    "df = pd.read_excel(file_path, sheet_name=sheet_name)\n",
    "\n",
    "# Step 4: Convert Data to Binary Format (One-Hot Encoding)\n",
    "df_encoded = pd.get_dummies(df, columns=df.columns)\n",
    "\n",
    "# Step 5: Apply Apriori Algorithm\n",
    "frequent_item_sets = apriori(df_encoded, min_support=0.4, use_colnames=True)\n",
    "\n",
    "# Step 6: Generate Association Rules\n",
    "rules = association_rules(frequent_item_sets, metric='lift', min_threshold=1.0)\n",
    "\n",
    "# Step 7: Print and Analyze the Association Rules\n",
    "print(rules)\n"
   ]
  },
  {
   "cell_type": "code",
   "execution_count": 6,
   "id": "4541fb4e",
   "metadata": {},
   "outputs": [
    {
     "name": "stdout",
     "output_type": "stream",
     "text": [
      "Collecting python-docx\n",
      "  Downloading python-docx-0.8.11.tar.gz (5.6 MB)\n",
      "Requirement already satisfied: lxml>=2.3.2 in c:\\users\\admin\\anaconda3\\lib\\site-packages (from python-docx) (4.6.3)\n",
      "Building wheels for collected packages: python-docx\n",
      "  Building wheel for python-docx (setup.py): started\n",
      "  Building wheel for python-docx (setup.py): finished with status 'done'\n",
      "  Created wheel for python-docx: filename=python_docx-0.8.11-py3-none-any.whl size=184508 sha256=f75ee3c26b37dbe4e776ded9c1689a010963afc830fe9645087ed5468257194f\n",
      "  Stored in directory: c:\\users\\admin\\appdata\\local\\pip\\cache\\wheels\\83\\8b\\7c\\09ae60c42c7ba4ed2dddaf2b8b9186cb105255856d6ed3dba5\n",
      "Successfully built python-docx\n",
      "Installing collected packages: python-docx\n",
      "Successfully installed python-docx-0.8.11\n"
     ]
    }
   ],
   "source": [
    "!pip install python-docx\n"
   ]
  },
  {
   "cell_type": "code",
   "execution_count": 13,
   "id": "a74b1b0f",
   "metadata": {},
   "outputs": [],
   "source": [
    "from docx import Document\n",
    "# Step 7: Create a Word Document\n",
    "doc = Document()\n",
    "\n",
    "# Step 8: Add Association Rules to the Document\n",
    "doc.add_heading('Association Rules', level=1)\n",
    "\n",
    "for index, row in rules.iterrows():\n",
    "    antecedent = ', '.join(row['antecedents'])\n",
    "    consequent = ', '.join(row['consequents'])\n",
    "    support = row['support']\n",
    "    confidence = row['confidence']\n",
    "    lift = row['lift']\n",
    "\n",
    "    rule_text = f\"Rule: If {antecedent} then {consequent}\\n\"\n",
    "    rule_text += f\"Support: {support:.2f}, Confidence: {confidence:.2f}, Lift: {lift:.2f}\\n\\n\"\n",
    "\n",
    "    doc.add_paragraph(rule_text)\n",
    "\n",
    "# Step 9: Save the Document\n",
    "doc_file_path = 'association_rules1.docx'  # Replace with your desired file path\n",
    "doc.save(doc_file_path)"
   ]
  },
  {
   "cell_type": "code",
   "execution_count": null,
   "id": "b9f0b2f1",
   "metadata": {},
   "outputs": [],
   "source": []
  }
 ],
 "metadata": {
  "kernelspec": {
   "display_name": "Python 3 (ipykernel)",
   "language": "python",
   "name": "python3"
  },
  "language_info": {
   "codemirror_mode": {
    "name": "ipython",
    "version": 3
   },
   "file_extension": ".py",
   "mimetype": "text/x-python",
   "name": "python",
   "nbconvert_exporter": "python",
   "pygments_lexer": "ipython3",
   "version": "3.9.7"
  }
 },
 "nbformat": 4,
 "nbformat_minor": 5
}
